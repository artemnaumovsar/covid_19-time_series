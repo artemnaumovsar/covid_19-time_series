#import libraries

import pandas as pd
import numpy as np
import matplotlib.pyplot as plt

#download data
train = pd.read_csv('https://covid.ourworldindata.org/data/owid-covid-data.csv')

#let's look at the data
train

#look at features
list(train)

#new_cases will be target feature

#we can look interesting for us features, f.e. 'location','new_cases', 'date', etc
train[['date', 'location', 'new_cases', 'new_deaths']]

#what we will predict
plt.plot(train[train['location'] == 'World']['date'], train[train['location'] == 'World']['new_cases'])

#here we will add some new features
