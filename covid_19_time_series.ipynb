#import basic libraries

import pandas as pd
import numpy as np
import matplotlib.pyplot as plt

#download data
train = pd.read_csv('https://covid.ourworldindata.org/data/owid-covid-data.csv')

#let's look at the data
train

#look at features
list(train)

#new_cases will be target feature
#we should fill in the gaps in the data later

#we can look interesting for us features, f.e. 'location','new_cases', 'date', etc
train[['date', 'location', 'new_cases', 'new_deaths']]

#what we will predict
plt.plot(train[train['location'] == 'World']['date'], train[train['location'] == 'World']['new_cases'])

#here we will add some new features
train['procent_new_cases_population'] =  train['new_cases'] / train['population']*100
train['procent_new_deaths_population'] =  train['new_deaths'] / train['population']*100


#it's comfartably to have this variable(date changes every day)
today = train['date'].iloc[-1]

train[train['date'] == today][['location', 'continent', 'population', 'new_cases', 'procent_new_cases_population']].sort_values(by='procent_new_cases_population').tail(15)
train[train['date'] == today][['location', 'continent', 'population', 'new_cases', 'procent_new_deaths_population']].sort_values(by='procent_new_deaths_population').tail(15)
