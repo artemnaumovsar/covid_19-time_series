#import libraries

import pandas as pd
import numpy as np
import matplotlib.pyplot as plt

#download data
train = pd.read_csv('https://covid.ourworldindata.org/data/owid-covid-data.csv')

